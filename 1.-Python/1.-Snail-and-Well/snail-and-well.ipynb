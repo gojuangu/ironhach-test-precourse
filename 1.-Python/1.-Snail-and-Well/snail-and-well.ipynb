{
 "cells": [
  {
   "cell_type": "markdown",
   "metadata": {},
   "source": [
    "<img src=\"https://bit.ly/2VnXWr2\" width=\"100\" align=\"left\">"
   ]
  },
  {
   "cell_type": "markdown",
   "metadata": {},
   "source": [
    "# The Snail and the Well\n",
    "\n",
    "A snail falls at the bottom of a 125 cm well. Each day the snail rises 30 cm. But at night, while sleeping, slides 20 cm because the walls are wet. How many days does it take for the snail to escape the well?\n",
    "\n",
    "**Hint**: The snail gets out of the well when it surpasses the 125cm of height.\n",
    "\n",
    "## Tools\n",
    "\n",
    "1. Loop: **while**\n",
    "2. Conditional statements: **if-else**\n",
    "3. Function: **print()**\n",
    "\n",
    "## Tasks\n",
    "\n",
    "#### 1. Assign the challenge data to variables with representative names: `well_height`, `daily_distance`, `nightly_distance` and `snail_position`."
   ]
  },
  {
   "cell_type": "code",
   "execution_count": 21,
   "metadata": {},
   "outputs": [],
   "source": [
    "well_height = 125 \n",
    "daily_distance = 30 \n",
    "nightly_distance = -20\n",
    "real_distance = (daily_distance + nightly_distance)\n",
    "snail_position = 0"
   ]
  },
  {
   "cell_type": "markdown",
   "metadata": {},
   "source": [
    "#### 2. Create a variable `days` to keep count of the days that pass until the snail escapes the well. "
   ]
  },
  {
   "cell_type": "code",
   "execution_count": 22,
   "metadata": {},
   "outputs": [],
   "source": [
    "days =[]"
   ]
  },
  {
   "cell_type": "markdown",
   "metadata": {},
   "source": [
    "#### 3. Find the solution to the challenge using the variables defined above. "
   ]
  },
  {
   "cell_type": "code",
   "execution_count": 25,
   "metadata": {},
   "outputs": [],
   "source": [
    "while snail_position < well_height:\n",
    "    days.append(1)\n",
    "    snail_position += real_distance    "
   ]
  },
  {
   "cell_type": "markdown",
   "metadata": {},
   "source": [
    "#### 4. Print the solution."
   ]
  },
  {
   "cell_type": "code",
   "execution_count": 26,
   "metadata": {},
   "outputs": [
    {
     "name": "stdout",
     "output_type": "stream",
     "text": [
      "13\n"
     ]
    }
   ],
   "source": [
    "print(len(days))"
   ]
  },
  {
   "cell_type": "markdown",
   "metadata": {},
   "source": [
    "## Bonus\n",
    "The distance traveled by the snail each day is now defined by a list.\n",
    "```\n",
    "advance_cm = [30, 21, 33, 77, 44, 45, 23, 45, 12, 34, 55]\n",
    "```\n",
    "On the first day, the snail rises 30cm but during the night it slides 20cm. On the second day, the snail rises 21cm but during the night it slides 20cm, and so on. \n",
    "\n",
    "#### 1. How many days does it take for the snail to escape the well?\n",
    "Follow the same guidelines as in the previous challenge.\n",
    "\n",
    "**Hint**: Remember that the snail gets out of the well when it surpasses the 125cm of height."
   ]
  },
  {
   "cell_type": "code",
   "execution_count": 5,
   "metadata": {},
   "outputs": [
    {
     "name": "stdout",
     "output_type": "stream",
     "text": [
      "6\n"
     ]
    }
   ],
   "source": [
    "advance_cm = [30, 21, 33, 77, 44, 45, 23, 45, 12, 34, 55]\n",
    "slide_cm = 20\n",
    "\n",
    "snail_position = 0\n",
    "days = []\n",
    "daily_rise = []\n",
    "\n",
    "\n",
    "for x in advance_cm:\n",
    "    x = x - slide_cm\n",
    "    daily_rise.append(x)\n",
    "\n",
    "#I've created escape in order to solve the next question\n",
    "escape = []\n",
    "\n",
    "for i in daily_rise:\n",
    "    if snail_position < well_height:\n",
    "        snail_position += i\n",
    "        days.append(1)\n",
    "        escape.append(i)\n",
    "\n",
    "print(len(days))"
   ]
  },
  {
   "cell_type": "markdown",
   "metadata": {},
   "source": [
    "#### 2. What is its maximum displacement in one day? And its minimum? Calculate the displacement using only the travel distance of the days used to get out of the well. \n",
    "**Hint**: Remember that displacement means the total distance risen taking into account that the snail slides at night.  "
   ]
  },
  {
   "cell_type": "code",
   "execution_count": 6,
   "metadata": {},
   "outputs": [
    {
     "name": "stdout",
     "output_type": "stream",
     "text": [
      "The maximum displacement in one day is  57\n",
      "The minimum displacement in one day is  1\n"
     ]
    }
   ],
   "source": [
    "#max-min taking into account that the snail slides at night\n",
    "print(\"The maximum displacement in one day is \", max(escape))\n",
    "print(\"The minimum displacement in one day is \", min(escape))"
   ]
  },
  {
   "cell_type": "code",
   "execution_count": 11,
   "metadata": {},
   "outputs": [
    {
     "name": "stdout",
     "output_type": "stream",
     "text": [
      "12 77\n"
     ]
    }
   ],
   "source": [
    "#Considering only de the advance_cm list\n",
    "print(min(advance_cm), max(advance_cm))"
   ]
  },
  {
   "cell_type": "markdown",
   "metadata": {},
   "source": [
    "#### 3. What is its average progress? Take into account the snail slides at night."
   ]
  },
  {
   "cell_type": "code",
   "execution_count": 14,
   "metadata": {},
   "outputs": [
    {
     "name": "stdout",
     "output_type": "stream",
     "text": [
      "The average progress is  18.09\n"
     ]
    }
   ],
   "source": [
    "#version 1 - taking into account the real travel distance per day\n",
    "\n",
    "print(\"The average progress is \", round(sum(daily_rise)/len(daily_rise),2))"
   ]
  },
  {
   "cell_type": "code",
   "execution_count": 13,
   "metadata": {
    "scrolled": true
   },
   "outputs": [
    {
     "name": "stdout",
     "output_type": "stream",
     "text": [
      "The average progress is  53.25\n"
     ]
    }
   ],
   "source": [
    "#version2 - making difference between day/night movements\n",
    "\n",
    "night_slide = [slide_cm * len(advance_cm)]\n",
    "total_movement = advance_cm + night_slide\n",
    "\n",
    "print(\"The average progress is \", round(sum(total_movement)/len(total_movement),2))"
   ]
  },
  {
   "cell_type": "code",
   "execution_count": 12,
   "metadata": {},
   "outputs": [
    {
     "name": "stdout",
     "output_type": "stream",
     "text": [
      "The average progress is  38.09\n"
     ]
    }
   ],
   "source": [
    "#version 3 - taking into account the distance traveled by the snail each day\n",
    "#(no night movements)\n",
    "\n",
    "print(\"The average progress is \", round(sum(advance_cm)/len(advance_cm),2))"
   ]
  },
  {
   "cell_type": "markdown",
   "metadata": {},
   "source": [
    "#### 4. What is the standard deviation of its displacement? Take into account the snail slides at night."
   ]
  },
  {
   "cell_type": "code",
   "execution_count": 18,
   "metadata": {},
   "outputs": [
    {
     "name": "stdout",
     "output_type": "stream",
     "text": [
      "17.16\n"
     ]
    }
   ],
   "source": [
    "import numpy as np\n",
    "\n",
    "#version 1 - taking into account the real movement per day\n",
    "\n",
    "standard_deviation = np.array(daily_rise)\n",
    "\n",
    "print(round(np.std(standard_deviation),2))"
   ]
  },
  {
   "cell_type": "code",
   "execution_count": 19,
   "metadata": {},
   "outputs": [
    {
     "name": "stdout",
     "output_type": "stream",
     "text": [
      "52.89\n"
     ]
    }
   ],
   "source": [
    "#version2 - taking into account all kinds of movements\n",
    "\n",
    "standard_deviation = np.array(total_movement)\n",
    "\n",
    "print(round(np.std(standard_deviation),2))"
   ]
  },
  {
   "cell_type": "code",
   "execution_count": 20,
   "metadata": {},
   "outputs": [
    {
     "name": "stdout",
     "output_type": "stream",
     "text": [
      "17.16\n"
     ]
    }
   ],
   "source": [
    "#version 3 - taking into account the distance traveled by the snail each day\n",
    "#(no night movements)\n",
    "\n",
    "standard_deviation = np.array(advance_cm)\n",
    "\n",
    "print(round(np.std(standard_deviation),2))"
   ]
  }
 ],
 "metadata": {
  "kernelspec": {
   "display_name": "Python 3",
   "language": "python",
   "name": "python3"
  },
  "language_info": {
   "codemirror_mode": {
    "name": "ipython",
    "version": 3
   },
   "file_extension": ".py",
   "mimetype": "text/x-python",
   "name": "python",
   "nbconvert_exporter": "python",
   "pygments_lexer": "ipython3",
   "version": "3.7.4"
  }
 },
 "nbformat": 4,
 "nbformat_minor": 2
}
